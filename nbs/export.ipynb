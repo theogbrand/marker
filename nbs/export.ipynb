{
 "cells": [
  {
   "cell_type": "code",
   "execution_count": 1,
   "metadata": {},
   "outputs": [
    {
     "name": "stdout",
     "output_type": "stream",
     "text": [
      "['/home/ob1/ob1-projects/marker/out/2/historyRLHFai2/historyRLHFai2.md', '/home/ob1/ob1-projects/marker/out/2/summariseHF/summariseHF.md', '/home/ob1/ob1-projects/marker/out/2/webgpt/webgpt.md', '/home/ob1/ob1-projects/marker/out/2/Medusa/Medusa.md', '/home/ob1/ob1-projects/marker/out/2/MoMe by Lamini/MoMe by Lamini.md', '/home/ob1/ob1-projects/marker/out/2/qualifying-uncertainty/qualifying-uncertainty.md', '/home/ob1/ob1-projects/marker/out/2/LIMA/LIMA.md', '/home/ob1/ob1-projects/marker/out/2/hellaswag/hellaswag.md', '/home/ob1/ob1-projects/marker/out/2/Gemini1/Gemini1.5.md', '/home/ob1/ob1-projects/marker/out/2/ai2-standardise-eval/ai2-standardise-eval.md', '/home/ob1/ob1-projects/marker/out/2/gemini1/gemini1.md', '/home/ob1/ob1-projects/marker/out/2/rewardbench/rewardbench.md', '/home/ob1/ob1-projects/marker/out/2/comprehensive-overview/comprehensive-overview.md', '/home/ob1/ob1-projects/marker/out/2/deepseek MOE v1/deepseek MOE v1.md', '/home/ob1/ob1-projects/marker/out/2/MosaicIT/MosaicIT.md', '/home/ob1/ob1-projects/marker/out/2/hf-syn-data/hf-syn-data.md', '/home/ob1/ob1-projects/marker/out/2/LoraFFT/LoraFFT.md', '/home/ob1/ob1-projects/marker/out/2/mixtureOfDepths/mixtureOfDepths.md', '/home/ob1/ob1-projects/marker/out/2/IFEval/IFEval.md', '/home/ob1/ob1-projects/marker/out/2/Mixtral-instruct/Mixtral-instruct.md']\n",
      "20\n"
     ]
    }
   ],
   "source": [
    "import os\n",
    "\n",
    "def find_md_files(directory):\n",
    "    md_files = []\n",
    "    for root, dirs, files in os.walk(directory):\n",
    "        for file in files:\n",
    "            if file.endswith('.md'):\n",
    "                md_files.append(os.path.join(root, file))\n",
    "    return md_files\n",
    "\n",
    "# Replace 'your_directory_path' with the path to the directory you want to search in\n",
    "md_files_list = find_md_files('/home/ob1/ob1-projects/marker/out/2')\n",
    "print(md_files_list)\n",
    "print(len(md_files_list))"
   ]
  },
  {
   "cell_type": "code",
   "execution_count": 2,
   "metadata": {},
   "outputs": [
    {
     "name": "stdout",
     "output_type": "stream",
     "text": [
      "All .md files have been copied to /home/ob1/ob1-projects/marker/md\n"
     ]
    }
   ],
   "source": [
    "import shutil\n",
    "\n",
    "# Assuming md_files_list is already populated with the paths to .md files\n",
    "md_files_list = find_md_files('/home/ob1/ob1-projects/marker/out/2')\n",
    "\n",
    "# Specify the output directory path\n",
    "output_directory = '/home/ob1/ob1-projects/marker/md'\n",
    "\n",
    "# Copy each .md file to the output directory\n",
    "for md_file in md_files_list:\n",
    "    shutil.copy(md_file, output_directory)\n",
    "\n",
    "print(f\"All .md files have been copied to {output_directory}\")"
   ]
  },
  {
   "cell_type": "code",
   "execution_count": null,
   "metadata": {},
   "outputs": [],
   "source": [
    "# scp -r username@remote_host:/path/to/remote/directory /path/to/local/directory"
   ]
  }
 ],
 "metadata": {
  "kernelspec": {
   "display_name": "ob1-marker",
   "language": "python",
   "name": "python3"
  },
  "language_info": {
   "codemirror_mode": {
    "name": "ipython",
    "version": 3
   },
   "file_extension": ".py",
   "mimetype": "text/x-python",
   "name": "python",
   "nbconvert_exporter": "python",
   "pygments_lexer": "ipython3",
   "version": "3.10.14"
  }
 },
 "nbformat": 4,
 "nbformat_minor": 2
}
