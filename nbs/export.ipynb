{
 "cells": [
  {
   "cell_type": "code",
   "execution_count": 2,
   "metadata": {},
   "outputs": [
    {
     "name": "stdout",
     "output_type": "stream",
     "text": [
      "['/home/ob1/ob1-projects/marker/out/f/FLAN/FLAN.md', '/home/ob1/ob1-projects/marker/out/f/UL2/UL2.md', '/home/ob1/ob1-projects/marker/out/f/LAMBDA/LAMBDA.md', '/home/ob1/ob1-projects/marker/out/f/T5/T5.md', '/home/ob1/ob1-projects/marker/out/f/ViT22B/ViT22B.md', '/home/ob1/ob1-projects/marker/out/f/PaLi-X/PaLi-X.md', '/home/ob1/ob1-projects/marker/out/f/BERT/BERT.md', '/home/ob1/ob1-projects/marker/out/f/PaLm2/PaLm2.md', '/home/ob1/ob1-projects/marker/out/f/FLAN-T5-Legal/FLAN-T5-Legal.md', '/home/ob1/ob1-projects/marker/out/f/FLAN2/FLAN2.md', '/home/ob1/ob1-projects/marker/out/f/MedPaLM/MedPaLM.md']\n",
      "11\n"
     ]
    }
   ],
   "source": [
    "import os\n",
    "\n",
    "def find_md_files(directory):\n",
    "    md_files = []\n",
    "    for root, dirs, files in os.walk(directory):\n",
    "        for file in files:\n",
    "            if file.endswith('.md'):\n",
    "                md_files.append(os.path.join(root, file))\n",
    "    return md_files\n",
    "\n",
    "# Replace 'your_directory_path' with the path to the directory you want to search in\n",
    "md_files_list = find_md_files('/home/ob1/ob1-projects/marker/out/f')\n",
    "print(md_files_list)\n",
    "print(len(md_files_list))"
   ]
  },
  {
   "cell_type": "code",
   "execution_count": 4,
   "metadata": {},
   "outputs": [
    {
     "name": "stdout",
     "output_type": "stream",
     "text": [
      "All .md files have been copied to /home/ob1/ob1-projects/marker/md/f\n"
     ]
    }
   ],
   "source": [
    "import shutil\n",
    "\n",
    "# Assuming md_files_list is already populated with the paths to .md files\n",
    "md_files_list = find_md_files('/home/ob1/ob1-projects/marker/out/f')\n",
    "\n",
    "# Specify the output directory path\n",
    "output_directory = '/home/ob1/ob1-projects/marker/md/f'\n",
    "\n",
    "# Copy each .md file to the output directory\n",
    "for md_file in md_files_list:\n",
    "    shutil.copy(md_file, output_directory)\n",
    "\n",
    "print(f\"All .md files have been copied to {output_directory}\")"
   ]
  },
  {
   "cell_type": "code",
   "execution_count": null,
   "metadata": {},
   "outputs": [],
   "source": [
    "# download md folder locally"
   ]
  }
 ],
 "metadata": {
  "kernelspec": {
   "display_name": "ob1-marker",
   "language": "python",
   "name": "python3"
  },
  "language_info": {
   "codemirror_mode": {
    "name": "ipython",
    "version": 3
   },
   "file_extension": ".py",
   "mimetype": "text/x-python",
   "name": "python",
   "nbconvert_exporter": "python",
   "pygments_lexer": "ipython3",
   "version": "3.10.14"
  }
 },
 "nbformat": 4,
 "nbformat_minor": 2
}
