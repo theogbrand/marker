{
 "cells": [
  {
   "cell_type": "code",
   "execution_count": 1,
   "metadata": {},
   "outputs": [
    {
     "name": "stdout",
     "output_type": "stream",
     "text": [
      "['/home/ob1/ob1-projects/marker/out/bigf/2023-05 - DPO - Stanford/2023-05 - DPO - Stanford.md', '/home/ob1/ob1-projects/marker/out/bigf/2021-01 - Switch Transformers - Google/2021-01 - Switch Transformers - Google.md', '/home/ob1/ob1-projects/marker/out/bigf/2022-04 - PaLM - Google/2022-04 - PaLM - Google.md', '/home/ob1/ob1-projects/marker/out/bigf/2023-04 - Pythia - EleutherAI et al/2023-04 - Pythia - EleutherAI et al..md', '/home/ob1/ob1-projects/marker/out/bigf/2023-05 - ToT - Google+Princeton/2023-05 - ToT - Google+Princeton.md', '/home/ob1/ob1-projects/marker/out/bigf/2020-05 - GPT 3/2020-05 - GPT 3.0 - OpenAI.md', '/home/ob1/ob1-projects/marker/out/bigf/2018-10 - BERT - Google/2018-10 - BERT - Google.md', '/home/ob1/ob1-projects/marker/out/bigf/2022-06 - METALM - Microsoft/2022-06 - METALM - Microsoft.md', '/home/ob1/ob1-projects/marker/out/bigf/2023-02 - Kosmos-1 - Microsoft/2023-02 - Kosmos-1 - Microsoft.md', '/home/ob1/ob1-projects/marker/out/bigf/2021-12 - GLaM - Google/2021-12 - GLaM - Google.md', '/home/ob1/ob1-projects/marker/out/bigf/2023-03 - GPT-4-technical-report - OpenAI/2023-03 - GPT-4-technical-report - OpenAI.md', '/home/ob1/ob1-projects/marker/out/bigf/2023-05 - Dromedary - CMU et al/2023-05 - Dromedary - CMU et al..md', '/home/ob1/ob1-projects/marker/out/bigf/2022-10 - GLM-130B - Tsinghua/2022-10 - GLM-130B - Tsinghua.md', '/home/ob1/ob1-projects/marker/out/bigf/2023-04 - LLaVA - UW–Madison+Microsoft/2023-04 - LLaVA - UW–Madison+Microsoft.md', '/home/ob1/ob1-projects/marker/out/bigf/2021-08 - Codex - OpenAI/2021-08 - Codex - OpenAI.md', '/home/ob1/ob1-projects/marker/out/bigf/2022-05 - UL2 - Google/2022-05 - UL2 - Google.md', '/home/ob1/ob1-projects/marker/out/bigf/2019-10 - ZeRO - Microsoft/2019-10 - ZeRO - Microsoft.md', '/home/ob1/ob1-projects/marker/out/bigf/2022-12 - OPT-IML - Meta/2022-12 - OPT-IML - Meta.md', '/home/ob1/ob1-projects/marker/out/bigf/2023-07 - LLaMA2 - Meta/2023-07 - LLaMA2 - Meta.md', '/home/ob1/ob1-projects/marker/out/bigf/2021-09 - FLAN - Google/2021-09 - FLAN - Google.md', '/home/ob1/ob1-projects/marker/out/bigf/2022-01 - Minerva - Google/2022-01 - Minerva - Google.md', '/home/ob1/ob1-projects/marker/out/bigf/2020-01 - Scaling Law - OpenAI/2020-01 - Scaling Law - OpenAI.md', '/home/ob1/ob1-projects/marker/out/bigf/2021-10 - T0 - HuggingFace et al/2021-10 - T0 - HuggingFace et al..md', '/home/ob1/ob1-projects/marker/out/bigf/2019-02 - GPT 2/2019-02 - GPT 2.0 - OpenAI.md', '/home/ob1/ob1-projects/marker/out/bigf/2022-01 - COT - Google/2022-01 - COT - Google.md', '/home/ob1/ob1-projects/marker/out/bigf/2024-05 - Mamba2 - CMU+Princeton/2024-05 - Mamba2 - CMU+Princeton.md', '/home/ob1/ob1-projects/marker/out/bigf/2022-06 - Emergent Abilities - Google/2022-06 - Emergent Abilities - Google.md', '/home/ob1/ob1-projects/marker/out/bigf/2022-01 - Megatron-Turing NLG - Microsoft+NVIDIA/2022-01 - Megatron-Turing NLG - Microsoft+NVIDIA.md', '/home/ob1/ob1-projects/marker/out/bigf/2022-09 - Sparrow - DeepMind/2022-09 - Sparrow - DeepMind.md', '/home/ob1/ob1-projects/marker/out/bigf/2024-01 - DeepSeek-v2 - DeepSeek/2024-01 - DeepSeek-v2 - DeepSeek.md', '/home/ob1/ob1-projects/marker/out/bigf/2021-12 - Gopher - DeepMind/2021-12 - Gopher - DeepMind.md', '/home/ob1/ob1-projects/marker/out/bigf/2023-02 - LLaMA-1 - Meta/2023-02 - LLaMA-1 - Meta.md', '/home/ob1/ob1-projects/marker/out/bigf/2023-05 - RWKV - Bo Peng/2023-05 - RWKV - Bo Peng.md', '/home/ob1/ob1-projects/marker/out/bigf/2024-05 - Llama3 - Meta/2024-05 - Llama3 - Meta.md', '/home/ob1/ob1-projects/marker/out/bigf/2023-10 - Mistral 7B - Mistral/2023-10 - Mistral 7B - Mistral.md', '/home/ob1/ob1-projects/marker/out/bigf/2022-03 - InstructGPT - OpenAI/2022-03 - InstructGPT - OpenAI.md', '/home/ob1/ob1-projects/marker/out/bigf/2019-09 - Megatron-LM - NVIDIA/2019-09 - Megatron-LM - NVIDIA.md', '/home/ob1/ob1-projects/marker/out/bigf/2023-01 - Flan 2022 Collection - Google/2023-01 - Flan 2022 Collection - Google.md', '/home/ob1/ob1-projects/marker/out/bigf/2021-12 - Retrieval-Enhanced Transformer (Retro) - DeepMind/2021-12 - Retrieval-Enhanced Transformer (Retro) - DeepMind.md', '/home/ob1/ob1-projects/marker/out/bigf/2022-01 - LaMDA - Google/2022-01 - LaMDA - Google.md', '/home/ob1/ob1-projects/marker/out/bigf/2023-03 - LRU - DeepMind/2023-03 - LRU - DeepMind.md', '/home/ob1/ob1-projects/marker/out/bigf/2022-06 - BIG-bench - Google/2022-06 - BIG-bench - Google.md', '/home/ob1/ob1-projects/marker/out/bigf/2019-10 - T5 - Google/2019-10 - T5 - Google.md', '/home/ob1/ob1-projects/marker/out/bigf/2023-03 - PaLM-E - Google/2023-03 - PaLM-E - Google.md', '/home/ob1/ob1-projects/marker/out/bigf/2022-11 - BLOOM - BigScience/2022-11 - BLOOM - BigScience.md', '/home/ob1/ob1-projects/marker/out/bigf/2021-12 - WebGPT - OpenAI/2021-12 - WebGPT - OpenAI.md', '/home/ob1/ob1-projects/marker/out/bigf/2021-08 - Foundation Models - Stanford/2021-08 - Foundation Models - Stanford.md', '/home/ob1/ob1-projects/marker/out/bigf/2018-06 - GPT 1/2018-06 - GPT 1.0 - OpenAI.md', '/home/ob1/ob1-projects/marker/out/bigf/2024-03 - Jamba - AI21 Labs/2024-03 - Jamba - AI21 Labs.md', '/home/ob1/ob1-projects/marker/out/bigf/2022-11 - Galactica - Meta/2022-11 - Galactica - Meta.md', '/home/ob1/ob1-projects/marker/out/bigf/2023-05 - PaLM 2 - Google/2023-05 - PaLM 2 - Google.md', '/home/ob1/ob1-projects/marker/out/bigf/2023-12 - Mamba - CMU+Princeton/2023-12 - Mamba - CMU+Princeton.md', '/home/ob1/ob1-projects/marker/out/bigf/2022-05 - OPT - Meta/2022-05 - OPT - Meta.md', '/home/ob1/ob1-projects/marker/out/bigf/2017-06 - Transformers - Google/2017-06 - Transformers - Google.md', '/home/ob1/ob1-projects/marker/out/bigf/2022-10 - Flan-T5-PaLM - Google/2022-10 - Flan-T5-PaLM - Google.md', '/home/ob1/ob1-projects/marker/out/bigf/2022-04 - Chinchilla - DeepMind/2022-04 - Chinchilla - DeepMind.md', '/home/ob1/ob1-projects/marker/out/bigf/2022-11 - HELM - Stanford/2022-11 - HELM - Stanford.md']\n",
      "57\n"
     ]
    }
   ],
   "source": [
    "import os\n",
    "\n",
    "def find_md_files(directory):\n",
    "    md_files = []\n",
    "    for root, dirs, files in os.walk(directory):\n",
    "        for file in files:\n",
    "            if file.endswith('.md'):\n",
    "                md_files.append(os.path.join(root, file))\n",
    "    return md_files\n",
    "\n",
    "# Replace 'your_directory_path' with the path to the directory you want to search in\n",
    "md_files_list = find_md_files('/home/ob1/ob1-projects/marker/out/bigf')\n",
    "print(md_files_list)\n",
    "print(len(md_files_list))"
   ]
  },
  {
   "cell_type": "code",
   "execution_count": 2,
   "metadata": {},
   "outputs": [
    {
     "name": "stdout",
     "output_type": "stream",
     "text": [
      "All .md files have been copied to /home/ob1/ob1-projects/marker/md/bigf\n"
     ]
    }
   ],
   "source": [
    "import shutil\n",
    "\n",
    "batch_name = \"bigf\" #edit this\n",
    "\n",
    "# Assuming md_files_list is already populated with the paths to .md files\n",
    "md_files_list = find_md_files(f'/home/ob1/ob1-projects/marker/out/{batch_name}')\n",
    "\n",
    "# Specify the output directory path\n",
    "output_directory = f'/home/ob1/ob1-projects/marker/md/{batch_name}'\n",
    "\n",
    "if not os.path.exists(output_directory):\n",
    "    os.makedirs(output_directory)\n",
    "\n",
    "# Copy each .md file to the output directory\n",
    "for md_file in md_files_list:\n",
    "    shutil.copy(md_file, output_directory)\n",
    "\n",
    "print(f\"All .md files have been copied to {output_directory}\")"
   ]
  },
  {
   "cell_type": "code",
   "execution_count": null,
   "metadata": {},
   "outputs": [],
   "source": [
    "# download md folder locally"
   ]
  }
 ],
 "metadata": {
  "kernelspec": {
   "display_name": "ob1-marker",
   "language": "python",
   "name": "python3"
  },
  "language_info": {
   "codemirror_mode": {
    "name": "ipython",
    "version": 3
   },
   "file_extension": ".py",
   "mimetype": "text/x-python",
   "name": "python",
   "nbconvert_exporter": "python",
   "pygments_lexer": "ipython3",
   "version": "3.10.14"
  }
 },
 "nbformat": 4,
 "nbformat_minor": 2
}
