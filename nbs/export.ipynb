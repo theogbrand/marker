{
 "cells": [
  {
   "cell_type": "code",
   "execution_count": 3,
   "metadata": {},
   "outputs": [
    {
     "name": "stdout",
     "output_type": "stream",
     "text": [
      "['/home/ob1/ob1-projects/marker/out/3/EMT/EMT.md', '/home/ob1/ob1-projects/marker/out/3/deepseekv2/deepseekv2.md', '/home/ob1/ob1-projects/marker/out/3/CLOverview/CLOverview.md', '/home/ob1/ob1-projects/marker/out/3/miniCPM/miniCPM.md', '/home/ob1/ob1-projects/marker/out/3/sparse-moe/sparse-moe.md', '/home/ob1/ob1-projects/marker/out/3/rephrasing-web/rephrasing-web.md', '/home/ob1/ob1-projects/marker/out/3/task-vectors/task-vectors.md', '/home/ob1/ob1-projects/marker/out/3/LC-AlpaccaEval/LC-AlpaccaEval.md', '/home/ob1/ob1-projects/marker/out/3/Mistral7B/Mistral7B.md', '/home/ob1/ob1-projects/marker/out/3/Pythia/Pythia.md', '/home/ob1/ob1-projects/marker/out/3/1000-shot-multimodal/1000-shot-multimodal.md', '/home/ob1/ob1-projects/marker/out/3/Falcon/Falcon.md', '/home/ob1/ob1-projects/marker/out/3/og-bp/og-bp.md', '/home/ob1/ob1-projects/marker/out/3/LAMBADA/LAMBADA.md', '/home/ob1/ob1-projects/marker/out/3/GPipe/GPipe.md', '/home/ob1/ob1-projects/marker/out/3/Nemotron/Nemotron.md', '/home/ob1/ob1-projects/marker/out/3/mesh-TF-DT/mesh-TF-DT.md', '/home/ob1/ob1-projects/marker/out/3/medusa/medusa.md', '/home/ob1/ob1-projects/marker/out/3/EasyProblems/EasyProblems.md', '/home/ob1/ob1-projects/marker/out/3/safety-alignment-framework/safety-alignment-framework.md', '/home/ob1/ob1-projects/marker/out/3/SMAUG/SMAUG.md', '/home/ob1/ob1-projects/marker/out/3/alpha-geometry/alpha-geometry.md', '/home/ob1/ob1-projects/marker/out/3/MATH eval/MATH eval.md', '/home/ob1/ob1-projects/marker/out/3/pythia6B-finance/pythia6B-finance.md', '/home/ob1/ob1-projects/marker/out/3/glaze/glaze.md', '/home/ob1/ob1-projects/marker/out/3/syntheticMathDistil/syntheticMathDistil.md', '/home/ob1/ob1-projects/marker/out/3/alpha-code-2/alpha-code-2.md', '/home/ob1/ob1-projects/marker/out/3/EvolScale/EvolScale.md', '/home/ob1/ob1-projects/marker/out/3/L2/L2.md', '/home/ob1/ob1-projects/marker/out/3/auto-LLM-Eval/auto-LLM-Eval.md', '/home/ob1/ob1-projects/marker/out/3/dolma/dolma.md', '/home/ob1/ob1-projects/marker/out/3/fineweb/fineweb.md', '/home/ob1/ob1-projects/marker/out/3/RULER/RULER.md', '/home/ob1/ob1-projects/marker/out/3/memorizing-transformers/memorizing-transformers.md', '/home/ob1/ob1-projects/marker/out/3/ROberTa/ROberTa.md', '/home/ob1/ob1-projects/marker/out/3/Llama1/Llama1.md', '/home/ob1/ob1-projects/marker/out/3/Polygot-Ko/Polygot-Ko.md', '/home/ob1/ob1-projects/marker/out/3/sparse-upcycling/sparse-upcycling.md']\n",
      "38\n"
     ]
    }
   ],
   "source": [
    "import os\n",
    "\n",
    "def find_md_files(directory):\n",
    "    md_files = []\n",
    "    for root, dirs, files in os.walk(directory):\n",
    "        for file in files:\n",
    "            if file.endswith('.md'):\n",
    "                md_files.append(os.path.join(root, file))\n",
    "    return md_files\n",
    "\n",
    "# Replace 'your_directory_path' with the path to the directory you want to search in\n",
    "md_files_list = find_md_files('/home/ob1/ob1-projects/marker/out/3')\n",
    "print(md_files_list)\n",
    "print(len(md_files_list))"
   ]
  },
  {
   "cell_type": "code",
   "execution_count": 5,
   "metadata": {},
   "outputs": [
    {
     "name": "stdout",
     "output_type": "stream",
     "text": [
      "All .md files have been copied to /home/ob1/ob1-projects/marker/md/3\n"
     ]
    }
   ],
   "source": [
    "import shutil\n",
    "\n",
    "batch_name = \"3\"\n",
    "\n",
    "# Assuming md_files_list is already populated with the paths to .md files\n",
    "md_files_list = find_md_files(f'/home/ob1/ob1-projects/marker/out/{batch_name}')\n",
    "\n",
    "# Specify the output directory path\n",
    "output_directory = f'/home/ob1/ob1-projects/marker/md/{batch_name}'\n",
    "\n",
    "if not os.path.exists(output_directory):\n",
    "    os.makedirs(output_directory)\n",
    "\n",
    "# Copy each .md file to the output directory\n",
    "for md_file in md_files_list:\n",
    "    shutil.copy(md_file, output_directory)\n",
    "\n",
    "print(f\"All .md files have been copied to {output_directory}\")"
   ]
  },
  {
   "cell_type": "code",
   "execution_count": null,
   "metadata": {},
   "outputs": [],
   "source": [
    "# download md folder locally"
   ]
  }
 ],
 "metadata": {
  "kernelspec": {
   "display_name": "ob1-marker",
   "language": "python",
   "name": "python3"
  },
  "language_info": {
   "codemirror_mode": {
    "name": "ipython",
    "version": 3
   },
   "file_extension": ".py",
   "mimetype": "text/x-python",
   "name": "python",
   "nbconvert_exporter": "python",
   "pygments_lexer": "ipython3",
   "version": "3.10.14"
  }
 },
 "nbformat": 4,
 "nbformat_minor": 2
}
