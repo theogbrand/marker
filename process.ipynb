{
 "cells": [
  {
   "cell_type": "code",
   "execution_count": 2,
   "metadata": {},
   "outputs": [],
   "source": [
    "import re"
   ]
  },
  {
   "cell_type": "code",
   "execution_count": 3,
   "metadata": {},
   "outputs": [
    {
     "data": {
      "text/plain": [
       "['\\n## Culture As Values\\n',\n",
       " '\\n## The Culture Of Poverty\\n',\n",
       " '\\n## The Protestant Ethic\\n',\n",
       " '\\n## Cultural Explanation\\n',\n",
       " '\\n## Two Models Of Cultural Influence\\n',\n",
       " '\\n## Unsettled Lives\\n',\n",
       " '\\n## Settled Lives\\n',\n",
       " '\\n## Implications For Research\\n',\n",
       " '\\n## Conclusion\\n',\n",
       " '\\n## References\\n']"
      ]
     },
     "execution_count": 3,
     "metadata": {},
     "output_type": "execute_result"
    }
   ],
   "source": [
    "STANDARD_HEADER_REGEX_PATTERN = r'\\n## [A-Z][a-zA-Z \\t\\-\\d:,&]+\\n'\n",
    "\n",
    "with open('./out/Swidler/Swidler.md', 'r', encoding='utf-8') as file:\n",
    "    bard = file.read()\n",
    "\n",
    "\n",
    "subsections_headers = re.findall(STANDARD_HEADER_REGEX_PATTERN, bard)\n",
    "\n",
    "subsections_headers"
   ]
  },
  {
   "cell_type": "code",
   "execution_count": 12,
   "metadata": {},
   "outputs": [
    {
     "data": {
      "text/plain": [
       "['\\n## An Overview Of Bard: An Early Experiment With Generative Ai\\n',\n",
       " '\\n## What Bard Is\\n',\n",
       " '\\n## Productivity\\n',\n",
       " '\\n## Creativity\\n',\n",
       " '\\n## Curiosity\\n',\n",
       " '\\n## How Bard Works Pre-Training\\n',\n",
       " '\\n## Responses To User Prompts\\n',\n",
       " '\\n## Human Feedback And Evaluation\\n',\n",
       " '\\n## Known Limitations Of Llm-Based Interfaces Like Bard\\n',\n",
       " '\\n## Accuracy\\n',\n",
       " '\\n## Bias\\n',\n",
       " '\\n## Persona\\n',\n",
       " '\\n## Vulnerability To Adversarial Prompting\\n',\n",
       " '\\n## How To Use Bard\\n',\n",
       " '\\n## Multiple Drafts\\n',\n",
       " '\\n## Citations\\n',\n",
       " '\\n## Google Lens In Bard\\n',\n",
       " '\\n## Bard Extensions\\n',\n",
       " '\\n## Modify Drafts\\n',\n",
       " '\\n## Pinned & Recent Threads\\n',\n",
       " '\\n## Share & Export\\n',\n",
       " '\\n## Build On Shared Conversations\\n',\n",
       " '\\n## Languages Supported\\n',\n",
       " '\\n## Give Feedback\\n',\n",
       " '\\n## Limited Turns\\n',\n",
       " '\\n## Application Of Our Ai Principles\\n',\n",
       " '\\n## Enabling Publisher Choice And Control\\n',\n",
       " '\\n## Improving Bard Together\\n',\n",
       " '\\n## Acknowledgments\\n']"
      ]
     },
     "execution_count": 12,
     "metadata": {},
     "output_type": "execute_result"
    }
   ],
   "source": [
    "STANDARD_HEADER_REGEX_PATTERN = r'\\n## [A-Z][a-zA-Z \\t\\-\\d:,&]+\\n'\n",
    "\n",
    "with open('./out/BARD/BARD.md', 'r', encoding='utf-8') as file:\n",
    "    bard = file.read()\n",
    "\n",
    "\n",
    "subsections_headers = re.findall(STANDARD_HEADER_REGEX_PATTERN, bard)\n",
    "\n",
    "subsections_headers"
   ]
  },
  {
   "cell_type": "code",
   "execution_count": 14,
   "metadata": {},
   "outputs": [
    {
     "data": {
      "text/plain": [
       "['\\n## 1. Introduction\\n',\n",
       " '\\n## 2. Representations Are Converging\\n',\n",
       " '\\n## 3. Why Are Representations Converging?\\n',\n",
       " '\\n## 4. What Representation Are We Converging To?\\n',\n",
       " '\\n## 5. What Are The Implications Of Convergence?\\n',\n",
       " '\\n## 6. Counterexamples And Limitations\\n']"
      ]
     },
     "execution_count": 14,
     "metadata": {},
     "output_type": "execute_result"
    }
   ],
   "source": [
    "STANDARD_HEADER_REGEX_PATTERN = r'\\n## \\d+. [A-Z][a-zA-Z \\t\\-\\d:,&?]+\\n'\n",
    "\n",
    "with open('./out/platonic/platonic.md', 'r', encoding='utf-8') as file:\n",
    "    platonic = file.read()\n",
    "\n",
    "\n",
    "subsections_headers = re.findall(STANDARD_HEADER_REGEX_PATTERN, platonic)\n",
    "\n",
    "subsections_headers"
   ]
  },
  {
   "cell_type": "code",
   "execution_count": null,
   "metadata": {},
   "outputs": [],
   "source": []
  }
 ],
 "metadata": {
  "kernelspec": {
   "display_name": "base",
   "language": "python",
   "name": "python3"
  },
  "language_info": {
   "codemirror_mode": {
    "name": "ipython",
    "version": 3
   },
   "file_extension": ".py",
   "mimetype": "text/x-python",
   "name": "python",
   "nbconvert_exporter": "python",
   "pygments_lexer": "ipython3",
   "version": "3.10.12"
  }
 },
 "nbformat": 4,
 "nbformat_minor": 2
}
